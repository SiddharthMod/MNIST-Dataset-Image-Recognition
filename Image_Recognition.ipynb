{
 "cells": [
  {
   "cell_type": "code",
   "execution_count": 183,
   "id": "34c22804-dac0-4702-ab49-ee80b9f940fa",
   "metadata": {
    "tags": []
   },
   "outputs": [],
   "source": [
    "import numpy as np\n",
    "import matplotlib.pyplot as plt\n",
    "import idx2numpy"
   ]
  },
  {
   "cell_type": "code",
   "execution_count": 184,
   "id": "7a306c15-1ff9-4169-8fe7-3a672e3ae47f",
   "metadata": {
    "tags": []
   },
   "outputs": [],
   "source": [
    "# Importing and reshaping of training data\n",
    "train_img_file = 'Train_Test_samples/train-images.idx3-ubyte'\n",
    "train_label_file = 'Train_Test_samples/train-labels.idx1-ubyte'\n",
    "\n",
    "\n",
    "train_img = idx2numpy.convert_from_file(train_img_file)\n",
    "train_label = idx2numpy.convert_from_file(train_label_file)\n",
    "\n",
    "# plt.imshow(train_img[0], cmap=plt.cm.binary)\n",
    "\n",
    "# Reshape input data\n",
    "num_samples = train_img.shape[0]\n",
    "X_train = np.zeros((784,num_samples))\n",
    "\n",
    "for i in range(num_samples):\n",
    "    train_img_flat = train_img[i].flatten()\n",
    "    X_train[:, i] = train_img_flat\n",
    "\n",
    "# Reshape output data\n",
    "Y_train = np.zeros((10,len(train_label)))\n",
    "for num in range(len(train_label)):\n",
    "    row = train_label[num]\n",
    "    Y_train[row,num] = 1\n",
    "\n",
    "# Importing and reshaping of test data\n",
    "test_img_file = 'Train_Test_samples/t10k-images.idx3-ubyte'\n",
    "test_label_file = 'Train_Test_samples/t10k-labels.idx1-ubyte'\n",
    "\n",
    "\n",
    "test_img = idx2numpy.convert_from_file(test_img_file)\n",
    "test_label = idx2numpy.convert_from_file(test_label_file)\n",
    "\n",
    "# plt.imshow(test_img[0], cmap=plt.cm.binary)\n",
    "\n",
    "# Reshape input data\n",
    "num_samples_test = test_img.shape[0]\n",
    "X_test = np.zeros((784,num_samples_test))\n",
    "\n",
    "for i in range(num_samples_test):\n",
    "    test_img_flat = test_img[i].flatten()\n",
    "    X_test[:, i] = test_img_flat\n",
    "\n",
    "# Reshape output data\n",
    "Y_test = np.zeros((10,len(test_label)))\n",
    "for num in range(len(test_label)):\n",
    "    row = test_label[num]\n",
    "    Y_test[row,num] = 1"
   ]
  },
  {
   "cell_type": "code",
   "execution_count": 185,
   "id": "bb7c84d6-3c38-45cd-b636-a7a6a9695f68",
   "metadata": {
    "tags": []
   },
   "outputs": [],
   "source": [
    "# Parameter initialization\n",
    "W1 = 0.025*np.random.randn(50,784) \n",
    "B1 = 0.025*np.random.randn(50,1) \n",
    "W2 = 0.025*np.random.randn(10,50)\n",
    "B2 = 0.025*np.random.randn(10,1)"
   ]
  },
  {
   "cell_type": "code",
   "execution_count": 186,
   "id": "59b91a30-f3a1-402b-a25f-278013879cc4",
   "metadata": {
    "tags": []
   },
   "outputs": [],
   "source": [
    "def relu(A):\n",
    "    \n",
    "    return np.maximum(0,A)\n",
    "\n",
    "def softmax(A):\n",
    "    \n",
    "    softmax = np.exp(A)/np.sum(np.exp(A),axis=0)\n",
    "    return softmax"
   ]
  },
  {
   "cell_type": "code",
   "execution_count": 187,
   "id": "c9f67587-3f5e-4e1b-994d-65761e7069a9",
   "metadata": {
    "tags": []
   },
   "outputs": [],
   "source": [
    "def forward_prop(W1,B1,W2,B2,X):\n",
    "\n",
    "    A1 = np.dot(W1,X) + B1\n",
    "    Z1 = relu(A1)\n",
    "\n",
    "    A2 = np.dot(W2,Z1) + B2\n",
    "    Z2 = softmax(A2)\n",
    "    \n",
    "    return A1, Z1, A2, Z2"
   ]
  },
  {
   "cell_type": "code",
   "execution_count": 188,
   "id": "b957f19c-e564-4c7d-8579-fe8823c517b1",
   "metadata": {},
   "outputs": [],
   "source": [
    "def CrossEntropyLoss(Y_pred,Y):\n",
    "    m = Y.shape[1]\n",
    "    loss = -np.log(Y_pred[Y.argmax(axis=0),range(m)])\n",
    "    loss_total = np.sum(loss)/m\n",
    "    \n",
    "    accuracy = (np.sum(Y.argmax(axis=0) == Y_pred.argmax(axis=0))/m)*100\n",
    "    \n",
    "    return loss_total, accuracy\n"
   ]
  },
  {
   "cell_type": "code",
   "execution_count": 189,
   "id": "cb23d949-8573-408e-a1a1-5d3858f6f6a0",
   "metadata": {
    "tags": []
   },
   "outputs": [],
   "source": [
    "def backward_prop(W1, B1, W2, B2, A1, Z1, A2, Z2, X, Y):\n",
    "    m = X.shape[1]\n",
    "\n",
    "    # Compute the gradient of the loss with respect to the output layer\n",
    "    dZ2 = Z2 - Y\n",
    "    \n",
    "    # Compute gradients of parameters in the output layer\n",
    "    dW2 = (1 / m) * np.dot(dZ2, Z1.T)\n",
    "    dB2 = (1 / m) * np.sum(dZ2)\n",
    "\n",
    "    # Backpropagate through ReLU activation\n",
    "    dA1 = np.dot(W2.T, dZ2) * (A1 > 0)\n",
    "\n",
    "    # Compute gradients of parameters in the hidden layer\n",
    "    dW1 = (1 / m) * np.dot(dA1, X.T)\n",
    "    dB1 = (1 / m) * np.sum(dA1)\n",
    "\n",
    "    return dW1, dB1, dW2, dB2"
   ]
  },
  {
   "cell_type": "code",
   "execution_count": 190,
   "id": "7116022c-5df8-40b2-b11f-34a9a6e6ebec",
   "metadata": {
    "tags": []
   },
   "outputs": [],
   "source": [
    "def train(X_train, Y_train, W1, B1, W2, B2, alpha, iteration):\n",
    "    \n",
    "    losses = []\n",
    "    accuracies = []\n",
    "    for i in range(iteration):\n",
    "        \n",
    "        # Forward propagation\n",
    "        A1, Z1, A2, Z2 = forward_prop(W1, B1, W2, B2, X_train)\n",
    "\n",
    "        # Compute loss\n",
    "        loss_iter, accuracy = CrossEntropyLoss(Z2, Y_train)\n",
    "        losses.append(loss_iter)\n",
    "        accuracies.append(accuracy)\n",
    "        # Backpropagation\n",
    "        dW1, dB1, dW2, dB2 = backward_prop(W1, B1, W2, B2, A1, Z1, A2, Z2, X_train, Y_train)\n",
    "        \n",
    "        # Update parameters\n",
    "        W1 -= alpha * dW1\n",
    "        B1 -= alpha * dB1\n",
    "        W2 -= alpha * dW2\n",
    "        B2 -= alpha * dB2\n",
    "        \n",
    "        # display(f'Iteration {i+1}- Loss={loss_iter: .2f}, Accuracy={accuracy: .2f}')\n",
    "    return W1, B1, W2, B2, losses, accuracies"
   ]
  },
  {
   "cell_type": "code",
   "execution_count": 191,
   "id": "9b3a3e06-8b77-4069-b1d7-04a174764e19",
   "metadata": {
    "tags": []
   },
   "outputs": [],
   "source": [
    "alpha = 0.001\n",
    "iters = 500\n",
    "W1_trained, B1_trained, W2_trained, B2_trained, loss, accuracy = train(X_train, Y_train, W1, B1, W2, B2, alpha, iters)"
   ]
  },
  {
   "cell_type": "code",
   "execution_count": 192,
   "id": "663a8635-c5f3-4beb-87a1-e7f72b7d3cff",
   "metadata": {
    "tags": []
   },
   "outputs": [
    {
     "data": {
      "image/png": "[encoded data removed]",
      "text/plain": [
       "<Figure size 640x480 with 1 Axes>"
      ]
     },
     "metadata": {},
     "output_type": "display_data"
    }
   ],
   "source": [
    "iteration = np.arange(1,iters+1,1)\n",
    "# Plot of cross entropy loss vs. iterations on the training set\n",
    "plt.plot(iteration,loss)\n",
    "plt.title('Cross Entropy Loss vs. iteration [Training set]')\n",
    "plt.ylabel('Cross Entropy Loss')\n",
    "plt.xlabel('Iteration')\n",
    "plt.show()"
   ]
  },
  {
   "cell_type": "code",
   "execution_count": 195,
   "id": "a2f06722-e14f-43dd-a975-cc5c9ef87510",
   "metadata": {},
   "outputs": [],
   "source": [
    "# Loss and accuracy of trained model on test set\n",
    "A1, Z1, A2, Z2 = forward_prop(W1_trained, B1_trained, W2_trained, B2_trained, X_test)\n",
    "loss_test, accuracy_test = CrossEntropyLoss(Z2, Y_test)\n"
   ]
  },
  {
   "cell_type": "code",
   "execution_count": 196,
   "id": "b590b40b-6e72-4afa-829b-aa3e7ed8c446",
   "metadata": {
    "tags": []
   },
   "outputs": [
    {
     "name": "stdout",
     "output_type": "stream",
     "text": [
      "Loss and accuracy of trained model on test set: Loss=0.32, Accuracy=90.81\n"
     ]
    }
   ],
   "source": [
    "print(f'Loss and accuracy of trained model on test set: Loss={loss_test:.2f}, Accuracy={accuracy_test:.2f}')"
   ]
  },
  {
   "cell_type": "code",
   "execution_count": 238,
   "id": "c04dfd4d-ef23-4de7-ad09-1ee8b8981df1",
   "metadata": {
    "tags": []
   },
   "outputs": [
    {
     "name": "stdout",
     "output_type": "stream",
     "text": [
      "The prediction is: 7\n",
      "The real label is: 7\n"
     ]
    },
    {
     "data": {
      "text/plain": [
       "<matplotlib.image.AxesImage at 0x24f85e47550>"
      ]
     },
     "execution_count": 238,
     "metadata": {},
     "output_type": "execute_result"
    },
    {
     "data": {
      "image/png": "[encoded data removed]",
      "text/plain": [
       "<Figure size 640x480 with 1 Axes>"
      ]
     },
     "metadata": {},
     "output_type": "display_data"
    }
   ],
   "source": [
    "# Random prediction from test set\n",
    "index = np.random.randint(0, 10000)\n",
    "A1, Z1, A2, Prediction = forward_prop(W1_trained, B1_trained, W2_trained, B2_trained, X_test[:,index].reshape(-1,1))\n",
    "print(f'The prediction is: {Prediction.argmax()}')\n",
    "print(f'The real label is: {Y_test[:,index].argmax()}')\n",
    "plt.imshow(X_test[:,index].reshape(28,28), cmap=plt.cm.binary)"
   ]
  }
 ],
 "metadata": {
  "kernelspec": {
   "display_name": "Python 3 (ipykernel)",
   "language": "python",
   "name": "python3"
  },
  "language_info": {
   "codemirror_mode": {
    "name": "ipython",
    "version": 3
   },
   "file_extension": ".py",
   "mimetype": "text/x-python",
   "name": "python",
   "nbconvert_exporter": "python",
   "pygments_lexer": "ipython3",
   "version": "3.11.5"
  }
 },
 "nbformat": 4,
 "nbformat_minor": 5
}
